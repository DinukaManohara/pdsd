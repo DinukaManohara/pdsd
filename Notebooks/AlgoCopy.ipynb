{
 "cells": [
  {
   "cell_type": "code",
   "execution_count": 379,
   "metadata": {
    "collapsed": true
   },
   "outputs": [],
   "source": [
    "import numpy as np\n",
    "import pandas as pd\n",
    "import time"
   ]
  },
  {
   "cell_type": "code",
   "execution_count": 380,
   "metadata": {
    "collapsed": true
   },
   "outputs": [],
   "source": [
    "dataset = pd.read_csv('ca-GrQc-new.csv')\n",
    "nodes = np.concatenate((dataset['node_1'].unique(), dataset['node_2'].unique()))\n",
    "nodes = np.unique(nodes)\n",
    "e = 0\n",
    "n = nodes.size"
   ]
  },
  {
   "cell_type": "code",
   "execution_count": 381,
   "metadata": {},
   "outputs": [
    {
     "data": {
      "text/plain": [
       "'\\nfor j in range(0, len(nodes)):\\n    dataset = dataset.replace(nodes[j], j)\\n'"
      ]
     },
     "execution_count": 381,
     "metadata": {},
     "output_type": "execute_result"
    }
   ],
   "source": [
    "\"\"\"\n",
    "for j in range(0, len(nodes)):\n",
    "    dataset = dataset.replace(nodes[j], j)\n",
    "\"\"\""
   ]
  },
  {
   "cell_type": "code",
   "execution_count": 382,
   "metadata": {
    "collapsed": true
   },
   "outputs": [],
   "source": [
    "edges = dataset.iloc[:, :].values"
   ]
  },
  {
   "cell_type": "code",
   "execution_count": 383,
   "metadata": {
    "collapsed": true
   },
   "outputs": [],
   "source": [
    "G = {}\n",
    "\n",
    "for i in nodes:\n",
    "    #print(i)\n",
    "    G[i] = []\n",
    "    \n",
    "for ed in edges:\n",
    "    if ed[0] != ed[1]:\n",
    "        G[ed[0]].append(ed[1])\n",
    "        G[ed[1]].append(ed[0])\n",
    "        e += 1"
   ]
  },
  {
   "cell_type": "code",
   "execution_count": 384,
   "metadata": {},
   "outputs": [],
   "source": [
    "def densest(G, nodes, n, e):\n",
    "    prev_core = None\n",
    "    densities = []\n",
    "    deg = {}\n",
    "    bucket = []\n",
    "    pos = {}\n",
    "    vert = []\n",
    "    edges = e\n",
    "    vertices = n\n",
    "    me = e\n",
    "    mv = n\n",
    "    posmc = None\n",
    "    mcore = 0\n",
    "    mden = 0\n",
    "    md = 0\n",
    "    \n",
    "    for v in nodes:\n",
    "        deg[v] = 0\n",
    "        vert.append(None)\n",
    "        pos[v] = None\n",
    "    \n",
    "    #easily parallelizable\n",
    "    for v in nodes:\n",
    "        d = 0\n",
    "        for u in G[v]:\n",
    "            d += 1\n",
    "        \n",
    "        deg[v] = d\n",
    "        if d > md:\n",
    "            md = d\n",
    "    \n",
    "    for d in range(md + 1):\n",
    "        bucket.append(0)\n",
    "    \n",
    "    for v in nodes:\n",
    "        bucket[deg[v]] += 1\n",
    "        \n",
    "    start = 0\n",
    "    for d in range(md + 1):\n",
    "        num = bucket[d]\n",
    "        bucket[d] = start\n",
    "        start += num\n",
    "    \n",
    "    #easily parallalizable\n",
    "    for v in nodes:\n",
    "        pos[v] = bucket[deg[v]]\n",
    "        vert[pos[v]] = v\n",
    "        bucket[deg[v]] += 1\n",
    "    \n",
    "    #easily parallalizable\n",
    "    for d in range(md, 0, -1):\n",
    "        bucket[d] = bucket[d - 1]\n",
    "    bucket[0] = 0\n",
    "    \n",
    "    #print(bucket)\n",
    "    \n",
    "    deleted = 0\n",
    "    temp = 0\n",
    "    temp2 = 0\n",
    "    for i in range(n):\n",
    "        v = vert[i]\n",
    "        core = deg[v]\n",
    "        \n",
    "        if prev_core != core:\n",
    "            #print((edges - ((deleted + temp1 - temp2) / 2)), (n - i))\n",
    "            #print(edges - ((deleted+temp)/2), (n - i))\n",
    "            #print((edges - ((deleted + temp) / 2)))\n",
    "            density = (edges - ((deleted+temp)/2)) / (n - i)\n",
    "            densities.append([core, density])\n",
    "            #deleted -= temp\n",
    "            #temp1 -= temp2\n",
    "            #temp2 = 0\n",
    "            if density > mden:\n",
    "                mden = density\n",
    "                mcore = core\n",
    "                me = edges\n",
    "                mv = n - i\n",
    "            prev_core = core\n",
    "        \n",
    "        #deleted += len(G[v])\n",
    "        deleted += deg[v]\n",
    "        \n",
    "        for u in G[v]:\n",
    "            #if pos[u] > pos[v]:\n",
    "            #    edges -= 1\n",
    "            if deg[u] <= core:\n",
    "                deleted += 1\n",
    "                temp -= 1\n",
    "            else:\n",
    "                temp += 1\n",
    "            #elif deg[u] > core:\n",
    "            #    temp += 1\n",
    "                \n",
    "            if deg[u] > deg[v]:\n",
    "                du = deg[u]\n",
    "                pu = pos[u]\n",
    "                pw = bucket[du]\n",
    "                w = vert[pw]\n",
    "                \n",
    "                if u != w:\n",
    "                    pos[u] = pw\n",
    "                    vert[pu] = w\n",
    "                    pos[w] = pu\n",
    "                    vert[pw] = u\n",
    "                \n",
    "                #deleted += 1\n",
    "                \n",
    "                #if deg[u] == deg[v] + 1:\n",
    "                #    temp1 -= 1\n",
    "                \n",
    "                #if deg[u] > core:\n",
    "                #    temp += 1\n",
    "                \n",
    "                bucket[du] += 1\n",
    "                deg[u] -= 1\n",
    "                \n",
    "                \n",
    "    \n",
    "    #print(mden, me, mv)\n",
    "    posmc = bucket[mcore]\n",
    "    for i in range(posmc - 1, -1, -1):\n",
    "        v = vert[i]\n",
    "        \n",
    "        if deg[v] < mden:\n",
    "            break\n",
    "            \n",
    "        legits = 0\n",
    "        for u in G[v]:\n",
    "            if pos[u] >= posmc:\n",
    "                legits += 1\n",
    "        \n",
    "        #print(mden, deg[v], legits)\n",
    "        if legits > mden:\n",
    "            w = vert[posmc - 1]\n",
    "            pos[v] = posmc - 1\n",
    "            vert[i] = w\n",
    "            pos[w] = i\n",
    "            vert[posmc - 1] = v\n",
    "            posmc -= 1\n",
    "            me += legits\n",
    "            mv += 1\n",
    "            mden = me / mv\n",
    "            \n",
    "    return densities, vert, pos, posmc, me, mv, mden"
   ]
  },
  {
   "cell_type": "code",
   "execution_count": 385,
   "metadata": {},
   "outputs": [
    {
     "name": "stdout",
     "output_type": "stream",
     "text": [
      "0.04023300000000063 seconds\n"
     ]
    }
   ],
   "source": [
    "start_time = time.clock()\n",
    "densities, vert, pos, posmc, me, mv, mden = densest(G, nodes, n, e)\n",
    "print(time.clock() - start_time, \"seconds\")"
   ]
  },
  {
   "cell_type": "code",
   "execution_count": 386,
   "metadata": {},
   "outputs": [
    {
     "data": {
      "text/plain": [
       "(14484, 46)"
      ]
     },
     "execution_count": 386,
     "metadata": {},
     "output_type": "execute_result"
    }
   ],
   "source": [
    "me, mv"
   ]
  },
  {
   "cell_type": "code",
   "execution_count": 387,
   "metadata": {},
   "outputs": [
    {
     "data": {
      "text/plain": [
       "[[0, 2.7630675314765356],\n",
       " [1, 2.763594733829422],\n",
       " [2, 3.4145408163265305],\n",
       " [3, 4.3214695752009185],\n",
       " [4, 5.54384858044164],\n",
       " [5, 7.264994547437295],\n",
       " [6, 9.34330985915493],\n",
       " [7, 10.747252747252746],\n",
       " [8, 11.540740740740741],\n",
       " [9, 12.330555555555556],\n",
       " [10, 13.006230529595015],\n",
       " [11, 13.085443037974683],\n",
       " [12, 13.928057553956835],\n",
       " [13, 13.981684981684982],\n",
       " [14, 14.386100386100386],\n",
       " [15, 14.831967213114755],\n",
       " [17, 15.346491228070175],\n",
       " [19, 16.512953367875646],\n",
       " [20, 16.49214659685864],\n",
       " [21, 17.28235294117647],\n",
       " [23, 18.29054054054054],\n",
       " [25, 19.60483870967742],\n",
       " [31, 19.5609756097561],\n",
       " [33, 19.008695652173913],\n",
       " [34, 20.061728395061728],\n",
       " [42, 22.391304347826086],\n",
       " [43, 21.5]]"
      ]
     },
     "execution_count": 387,
     "metadata": {},
     "output_type": "execute_result"
    }
   ],
   "source": [
    "densities"
   ]
  },
  {
   "cell_type": "code",
   "execution_count": 388,
   "metadata": {},
   "outputs": [
    {
     "data": {
      "text/plain": [
       "22.391304347826086"
      ]
     },
     "execution_count": 388,
     "metadata": {},
     "output_type": "execute_result"
    }
   ],
   "source": [
    "mden"
   ]
  },
  {
   "cell_type": "code",
   "execution_count": null,
   "metadata": {
    "collapsed": true
   },
   "outputs": [],
   "source": []
  }
 ],
 "metadata": {
  "kernelspec": {
   "display_name": "Python 3",
   "language": "python",
   "name": "python3"
  },
  "language_info": {
   "codemirror_mode": {
    "name": "ipython",
    "version": 3
   },
   "file_extension": ".py",
   "mimetype": "text/x-python",
   "name": "python",
   "nbconvert_exporter": "python",
   "pygments_lexer": "ipython3",
   "version": "3.6.1"
  }
 },
 "nbformat": 4,
 "nbformat_minor": 2
}
