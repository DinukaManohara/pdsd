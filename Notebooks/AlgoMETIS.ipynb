{
 "cells": [
  {
   "cell_type": "code",
   "execution_count": 21,
   "metadata": {
    "collapsed": true
   },
   "outputs": [],
   "source": [
    "import numpy as np\n",
    "import pandas as pd\n",
    "import time"
   ]
  },
  {
   "cell_type": "code",
   "execution_count": 22,
   "metadata": {},
   "outputs": [],
   "source": [
    "f = open(\"MPI/METIS/in-2004.graph\")\n",
    "meta = list(map(int, f.readline().split()))\n",
    "e = meta[1]\n",
    "n = meta[0]\n",
    "\n",
    "G = {}\n",
    "for i in range(1, n+1):\n",
    "    G[i] = []\n",
    "    edges = list(map(int, f.readline().split()))\n",
    "    for nei in edges:\n",
    "        if i != nei:\n",
    "            G[i].append(nei)\n",
    "            \n",
    "f.close()"
   ]
  },
  {
   "cell_type": "code",
   "execution_count": 23,
   "metadata": {},
   "outputs": [],
   "source": [
    "def densest(G, nodes, n, e):\n",
    "    prev_core = None\n",
    "    densities = []\n",
    "    deg = {}\n",
    "    bucket = []\n",
    "    pos = {}\n",
    "    vert = []\n",
    "    edges = e\n",
    "    me = e\n",
    "    mv = n\n",
    "    posmc = None\n",
    "    mcore = 0\n",
    "    mden = 0\n",
    "    md = 0\n",
    "    \n",
    "    for v in nodes:\n",
    "        deg[v] = 0\n",
    "        vert.append(None)\n",
    "        pos[v] = None\n",
    "    \n",
    "    #easily parallelizable\n",
    "    for v in nodes:\n",
    "        d = 0\n",
    "        for u in G[v]:\n",
    "            d += 1\n",
    "        \n",
    "        deg[v] = d\n",
    "        if d > md:\n",
    "            md = d\n",
    "    \n",
    "    for d in range(md + 1):\n",
    "        bucket.append(0)\n",
    "    \n",
    "    for v in nodes:\n",
    "        bucket[deg[v]] += 1\n",
    "        \n",
    "    start = 0\n",
    "    for d in range(md + 1):\n",
    "        num = bucket[d]\n",
    "        bucket[d] = start\n",
    "        start += num\n",
    "    \n",
    "    #easily parallalizable\n",
    "    for v in nodes:\n",
    "        pos[v] = bucket[deg[v]]\n",
    "        vert[pos[v]] = v\n",
    "        bucket[deg[v]] += 1\n",
    "    \n",
    "    #easily parallalizable\n",
    "    for d in range(md, 0, -1):\n",
    "        bucket[d] = bucket[d - 1]\n",
    "    bucket[0] = 0\n",
    "    \n",
    "    for i in range(n):\n",
    "        v = vert[i]\n",
    "        core = deg[v]\n",
    "        \n",
    "        if prev_core != core:\n",
    "            density = edges / (n - i)\n",
    "            densities.append([core, density])\n",
    "            if density > mden:\n",
    "                mden = density\n",
    "                mcore = core\n",
    "                me = edges\n",
    "                mv = n - i\n",
    "            prev_core = core\n",
    "        \n",
    "        for u in G[v]:\n",
    "            if pos[u] > pos[v]:\n",
    "                edges -= 1\n",
    "                \n",
    "            if deg[u] > deg[v]:\n",
    "                du = deg[u]\n",
    "                pu = pos[u]\n",
    "                pw = bucket[du]\n",
    "                w = vert[pw]\n",
    "                \n",
    "                if u != w:\n",
    "                    pos[u] = pw\n",
    "                    vert[pu] = w\n",
    "                    pos[w] = pu\n",
    "                    vert[pw] = u\n",
    "                    \n",
    "                bucket[du] += 1\n",
    "                deg[u] -= 1\n",
    "    \n",
    "    #print(mden, me, mv)\n",
    "    posmc = bucket[mcore]\n",
    "    for i in range(posmc - 1, -1, -1):\n",
    "        v = vert[i]\n",
    "        \n",
    "        if deg[v] < mden:\n",
    "            break\n",
    "            \n",
    "        legits = 0\n",
    "        for u in G[v]:\n",
    "            if pos[u] >= posmc:\n",
    "                legits += 1\n",
    "        \n",
    "        #print(mden, deg[v], legits)\n",
    "        if legits > mden:\n",
    "            w = vert[posmc - 1]\n",
    "            pos[v] = posmc - 1\n",
    "            vert[i] = w\n",
    "            pos[w] = i\n",
    "            vert[posmc - 1] = v\n",
    "            posmc -= 1\n",
    "            me += legits\n",
    "            mv += 1\n",
    "            mden = me / mv\n",
    "            \n",
    "    return densities, vert, pos, posmc, me, mv, mden"
   ]
  },
  {
   "cell_type": "code",
   "execution_count": 24,
   "metadata": {},
   "outputs": [
    {
     "name": "stdout",
     "output_type": "stream",
     "text": [
      "22.617630999999996 seconds\n"
     ]
    }
   ],
   "source": [
    "start_time = time.clock()\n",
    "densities, vert, pos, posmc, me, mv, mden = densest(G, range(1, n+1), n, e)\n",
    "print(time.clock() - start_time, \"seconds\")"
   ]
  },
  {
   "cell_type": "code",
   "execution_count": 25,
   "metadata": {},
   "outputs": [
    {
     "data": {
      "text/plain": [
       "(1984768, 7105)"
      ]
     },
     "execution_count": 25,
     "metadata": {},
     "output_type": "execute_result"
    }
   ],
   "source": [
    "me, mv"
   ]
  },
  {
   "cell_type": "code",
   "execution_count": 26,
   "metadata": {},
   "outputs": [
    {
     "data": {
      "text/plain": [
       "279.34806474313865"
      ]
     },
     "execution_count": 26,
     "metadata": {},
     "output_type": "execute_result"
    }
   ],
   "source": [
    "mden"
   ]
  }
 ],
 "metadata": {
  "kernelspec": {
   "display_name": "Python 3",
   "language": "python",
   "name": "python3"
  },
  "language_info": {
   "codemirror_mode": {
    "name": "ipython",
    "version": 3
   },
   "file_extension": ".py",
   "mimetype": "text/x-python",
   "name": "python",
   "nbconvert_exporter": "python",
   "pygments_lexer": "ipython3",
   "version": "3.6.1"
  }
 },
 "nbformat": 4,
 "nbformat_minor": 2
}
