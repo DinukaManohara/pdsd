{
 "cells": [
  {
   "cell_type": "code",
   "execution_count": 55,
   "metadata": {
    "collapsed": true
   },
   "outputs": [],
   "source": [
    "import numpy as np\n",
    "import pandas as pd\n",
    "import time"
   ]
  },
  {
   "cell_type": "code",
   "execution_count": 56,
   "metadata": {},
   "outputs": [],
   "source": [
    "dataset = pd.read_csv('as-skitter.csv')\n",
    "nodes = np.concatenate((dataset['node_1'].unique(), dataset['node_2'].unique()))\n",
    "nodes = np.unique(nodes)\n",
    "e = 0\n",
    "n = nodes.size"
   ]
  },
  {
   "cell_type": "code",
   "execution_count": 57,
   "metadata": {},
   "outputs": [
    {
     "data": {
      "text/plain": [
       "'\\nfor j in range(0, len(nodes)):\\n    dataset = dataset.replace(nodes[j], j)\\n'"
      ]
     },
     "execution_count": 57,
     "metadata": {},
     "output_type": "execute_result"
    }
   ],
   "source": [
    "\"\"\"\n",
    "for j in range(0, len(nodes)):\n",
    "    dataset = dataset.replace(nodes[j], j)\n",
    "\"\"\""
   ]
  },
  {
   "cell_type": "code",
   "execution_count": 58,
   "metadata": {
    "collapsed": true
   },
   "outputs": [],
   "source": [
    "edges = dataset.iloc[:, :].values"
   ]
  },
  {
   "cell_type": "code",
   "execution_count": 59,
   "metadata": {
    "collapsed": true
   },
   "outputs": [],
   "source": [
    "G = {}\n",
    "\n",
    "for i in nodes:\n",
    "    #print(i)\n",
    "    G[i] = []\n",
    "    \n",
    "for ed in edges:\n",
    "    if ed[0] != ed[1]:\n",
    "        G[ed[0]].append(ed[1])\n",
    "        G[ed[1]].append(ed[0])\n",
    "        e += 1"
   ]
  },
  {
   "cell_type": "code",
   "execution_count": 60,
   "metadata": {
    "collapsed": true
   },
   "outputs": [],
   "source": [
    "def densest(G, nodes, n, e):\n",
    "    prev_core = None\n",
    "    densities = []\n",
    "    deg = {}\n",
    "    bucket = []\n",
    "    pos = {}\n",
    "    vert = []\n",
    "    edges = e\n",
    "    vertices = n\n",
    "    me = e\n",
    "    mv = n\n",
    "    posmc = None\n",
    "    mcore = 0\n",
    "    mden = 0\n",
    "    md = 0\n",
    "    \n",
    "    for v in nodes:\n",
    "        deg[v] = 0\n",
    "        vert.append(None)\n",
    "        pos[v] = None\n",
    "    \n",
    "    #easily parallelizable\n",
    "    for v in nodes:\n",
    "        d = 0\n",
    "        for u in G[v]:\n",
    "            d += 1\n",
    "        \n",
    "        deg[v] = d\n",
    "        if d > md:\n",
    "            md = d\n",
    "    \n",
    "    for d in range(md + 1):\n",
    "        bucket.append(0)\n",
    "    \n",
    "    for v in nodes:\n",
    "        bucket[deg[v]] += 1\n",
    "        \n",
    "    start = 0\n",
    "    for d in range(md + 1):\n",
    "        num = bucket[d]\n",
    "        bucket[d] = start\n",
    "        start += num\n",
    "    \n",
    "    #easily parallalizable\n",
    "    for v in nodes:\n",
    "        pos[v] = bucket[deg[v]]\n",
    "        vert[pos[v]] = v\n",
    "        bucket[deg[v]] += 1\n",
    "    \n",
    "    #easily parallalizable\n",
    "    for d in range(md, 0, -1):\n",
    "        bucket[d] = bucket[d - 1]\n",
    "    bucket[0] = 0\n",
    "    \n",
    "    for i in range(n):\n",
    "        v = vert[i]\n",
    "        core = deg[v]\n",
    "        \n",
    "        if prev_core != core:\n",
    "            density = edges / (n - i)\n",
    "            densities.append([core, density])\n",
    "            if density > mden:\n",
    "                mden = density\n",
    "                mcore = core\n",
    "                me = edges\n",
    "                mv = n - i\n",
    "            prev_core = core\n",
    "        \n",
    "        for u in G[v]:\n",
    "            if pos[u] > pos[v]:\n",
    "                edges -= 1\n",
    "                \n",
    "            if deg[u] > deg[v]:\n",
    "                du = deg[u]\n",
    "                pu = pos[u]\n",
    "                pw = bucket[du]\n",
    "                w = vert[pw]\n",
    "                \n",
    "                if u != w:\n",
    "                    pos[u] = pw\n",
    "                    vert[pu] = w\n",
    "                    pos[w] = pu\n",
    "                    vert[pw] = u\n",
    "                    \n",
    "                bucket[du] += 1\n",
    "                deg[u] -= 1\n",
    "    \n",
    "    #print(mden, me, mv)\n",
    "    posmc = bucket[mcore]\n",
    "    for i in range(posmc - 1, -1, -1):\n",
    "        v = vert[i]\n",
    "        \n",
    "        if deg[v] < mden:\n",
    "            break\n",
    "            \n",
    "        legits = 0\n",
    "        for u in G[v]:\n",
    "            if pos[u] >= posmc:\n",
    "                legits += 1\n",
    "        \n",
    "        #print(mden, deg[v], legits)\n",
    "        if legits > mden:\n",
    "            w = vert[posmc - 1]\n",
    "            pos[v] = posmc - 1\n",
    "            vert[i] = w\n",
    "            pos[w] = i\n",
    "            vert[posmc - 1] = v\n",
    "            posmc -= 1\n",
    "            me += legits\n",
    "            mv += 1\n",
    "            mden = me / mv\n",
    "            \n",
    "    return densities, vert, pos, posmc, me, mv, mden"
   ]
  },
  {
   "cell_type": "code",
   "execution_count": 61,
   "metadata": {},
   "outputs": [
    {
     "name": "stdout",
     "output_type": "stream",
     "text": [
      "49.873841999999996 seconds\n"
     ]
    }
   ],
   "source": [
    "start_time = time.clock()\n",
    "densities, vert, pos, posmc, me, mv, mden = densest(G, nodes, n, e)\n",
    "print(time.clock() - start_time, \"seconds\")"
   ]
  },
  {
   "cell_type": "code",
   "execution_count": 62,
   "metadata": {},
   "outputs": [
    {
     "data": {
      "text/plain": [
       "(41482, 464)"
      ]
     },
     "execution_count": 62,
     "metadata": {},
     "output_type": "execute_result"
    }
   ],
   "source": [
    "me, mv"
   ]
  },
  {
   "cell_type": "code",
   "execution_count": 63,
   "metadata": {},
   "outputs": [
    {
     "data": {
      "text/plain": [
       "[[1, 6.540438512981788],\n",
       " [2, 7.420417753855822],\n",
       " [3, 8.812676117842583],\n",
       " [4, 10.164331988317496],\n",
       " [5, 11.559272854261435],\n",
       " [6, 12.974082177476248],\n",
       " [7, 14.402998509131569],\n",
       " [8, 15.829952714857535],\n",
       " [9, 17.27580124106905],\n",
       " [10, 18.765269765603698],\n",
       " [11, 20.162396999508637],\n",
       " [12, 21.609453749012776],\n",
       " [13, 23.019043327169843],\n",
       " [14, 24.408320517412097],\n",
       " [15, 25.803030753407963],\n",
       " [16, 27.11456756684989],\n",
       " [17, 28.43833307458582],\n",
       " [18, 29.66193899675584],\n",
       " [19, 30.89398792381055],\n",
       " [20, 32.028842389602254],\n",
       " [21, 33.05718827831063],\n",
       " [22, 34.14939231611082],\n",
       " [23, 35.19984032732898],\n",
       " [24, 36.19142580332634],\n",
       " [25, 37.25497055565273],\n",
       " [26, 38.20280825884821],\n",
       " [27, 39.0680269831439],\n",
       " [28, 40.023063095452095],\n",
       " [29, 40.829512592167],\n",
       " [30, 41.73373958718044],\n",
       " [31, 42.55769905296387],\n",
       " [32, 43.364264792032806],\n",
       " [33, 44.25215131097484],\n",
       " [34, 45.14295418727243],\n",
       " [35, 46.089254205387604],\n",
       " [36, 47.01987534185588],\n",
       " [37, 48.132212457011846],\n",
       " [38, 49.055432538937886],\n",
       " [39, 50.01326551373347],\n",
       " [40, 50.88650427913101],\n",
       " [41, 51.99870621495999],\n",
       " [42, 53.35713907284768],\n",
       " [43, 54.42470036477332],\n",
       " [44, 55.59179513313798],\n",
       " [45, 56.74741258741259],\n",
       " [46, 58.07442185317399],\n",
       " [47, 59.23063200815494],\n",
       " [48, 60.90682931514744],\n",
       " [49, 61.96433357385836],\n",
       " [50, 62.82941498086386],\n",
       " [51, 63.594450867052025],\n",
       " [52, 64.15749456915279],\n",
       " [53, 64.75733434496712],\n",
       " [54, 66.14916369618865],\n",
       " [55, 66.78808804488563],\n",
       " [56, 67.70767135724013],\n",
       " [57, 68.08114856429464],\n",
       " [58, 68.42037602442552],\n",
       " [59, 68.79587423057727],\n",
       " [60, 69.10981468771448],\n",
       " [61, 69.48341654778888],\n",
       " [62, 69.85963933816694],\n",
       " [63, 70.93711565165641],\n",
       " [64, 71.29133043658183],\n",
       " [65, 71.74359535800306],\n",
       " [66, 71.99909297052154],\n",
       " [67, 72.33222116301239],\n",
       " [68, 72.63417689802054],\n",
       " [69, 72.78909278883432],\n",
       " [70, 72.92914438502673],\n",
       " [71, 73.12602662135373],\n",
       " [72, 73.26917338108028],\n",
       " [73, 74.28426738690074],\n",
       " [74, 74.3832740213523],\n",
       " [75, 75.20776699029126],\n",
       " [76, 75.21928071928072],\n",
       " [77, 75.20368474923234],\n",
       " [78, 75.17803227485685],\n",
       " [79, 75.07733910221741],\n",
       " [80, 74.9905869324474],\n",
       " [81, 77.15590551181103],\n",
       " [82, 77.09367493995197],\n",
       " [83, 80.87976539589442],\n",
       " [84, 80.85332011892963],\n",
       " [85, 80.80583501006036],\n",
       " [86, 80.74897959183673],\n",
       " [87, 80.61320754716981],\n",
       " [88, 80.53184713375796],\n",
       " [89, 80.41639697950377],\n",
       " [90, 80.30601092896175],\n",
       " [91, 80.07054871220605],\n",
       " [92, 79.95927601809954],\n",
       " [93, 79.82379862700229],\n",
       " [94, 79.61162790697675],\n",
       " [95, 78.40304182509506],\n",
       " [96, 78.25447570332481],\n",
       " [97, 89.11709601873537],\n",
       " [98, 88.98571428571428],\n",
       " [99, 88.81067961165049],\n",
       " [100, 88.30357142857143],\n",
       " [101, 87.9342105263158],\n",
       " [102, 87.34159779614325],\n",
       " [103, 87.09803921568627],\n",
       " [104, 86.64553314121038],\n",
       " [105, 86.54492753623188],\n",
       " [106, 86.10979228486647],\n",
       " [107, 85.81024096385542],\n",
       " [108, 84.05555555555556],\n",
       " [109, 83.59],\n",
       " [110, 81.48550724637681],\n",
       " [111, 75.009009009009]]"
      ]
     },
     "execution_count": 63,
     "metadata": {},
     "output_type": "execute_result"
    }
   ],
   "source": [
    "densities"
   ]
  },
  {
   "cell_type": "code",
   "execution_count": 64,
   "metadata": {},
   "outputs": [
    {
     "data": {
      "text/plain": [
       "89.40086206896552"
      ]
     },
     "execution_count": 64,
     "metadata": {},
     "output_type": "execute_result"
    }
   ],
   "source": [
    "mden"
   ]
  },
  {
   "cell_type": "code",
   "execution_count": null,
   "metadata": {
    "collapsed": true
   },
   "outputs": [],
   "source": []
  }
 ],
 "metadata": {
  "kernelspec": {
   "display_name": "Python 3",
   "language": "python",
   "name": "python3"
  },
  "language_info": {
   "codemirror_mode": {
    "name": "ipython",
    "version": 3
   },
   "file_extension": ".py",
   "mimetype": "text/x-python",
   "name": "python",
   "nbconvert_exporter": "python",
   "pygments_lexer": "ipython3",
   "version": "3.6.1"
  }
 },
 "nbformat": 4,
 "nbformat_minor": 2
}
